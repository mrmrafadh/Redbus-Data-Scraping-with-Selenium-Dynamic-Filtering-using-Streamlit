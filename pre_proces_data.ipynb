{
 "cells": [
  {
   "cell_type": "code",
   "execution_count": 3,
   "metadata": {},
   "outputs": [],
   "source": [
    "import pandas as pd\n",
    "import os\n",
    "import mysql.connector as db"
   ]
  },
  {
   "cell_type": "code",
   "execution_count": 4,
   "metadata": {},
   "outputs": [
    {
     "name": "stderr",
     "output_type": "stream",
     "text": [
      "C:\\Users\\User\\AppData\\Local\\Temp\\ipykernel_2260\\1581953110.py:5: FutureWarning: The behavior of DataFrame concatenation with empty or all-NA entries is deprecated. In a future version, this will no longer exclude empty or all-NA columns when determining the result dtypes. To retain the old behavior, exclude the relevant entries before the concat operation.\n",
      "  all_data = pd.concat([all_data, df], ignore_index=True)\n"
     ]
    },
    {
     "data": {
      "text/html": [
       "<div>\n",
       "<style scoped>\n",
       "    .dataframe tbody tr th:only-of-type {\n",
       "        vertical-align: middle;\n",
       "    }\n",
       "\n",
       "    .dataframe tbody tr th {\n",
       "        vertical-align: top;\n",
       "    }\n",
       "\n",
       "    .dataframe thead th {\n",
       "        text-align: right;\n",
       "    }\n",
       "</style>\n",
       "<table border=\"1\" class=\"dataframe\">\n",
       "  <thead>\n",
       "    <tr style=\"text-align: right;\">\n",
       "      <th></th>\n",
       "      <th>Bus_name</th>\n",
       "      <th>Bus Type</th>\n",
       "      <th>Departure Time</th>\n",
       "      <th>Arrival Time</th>\n",
       "      <th>Duration</th>\n",
       "      <th>Fare</th>\n",
       "      <th>Rating</th>\n",
       "      <th>Seat_Availability</th>\n",
       "      <th>Bus Link</th>\n",
       "      <th>Bus Route</th>\n",
       "    </tr>\n",
       "  </thead>\n",
       "  <tbody>\n",
       "    <tr>\n",
       "      <th>0</th>\n",
       "      <td>BLUE HILL TRAVELS INDIA LIMITED</td>\n",
       "      <td>NON A/C Seater Semi Sleeper (2+1)</td>\n",
       "      <td>22:15</td>\n",
       "      <td>03:45</td>\n",
       "      <td>05h 30m</td>\n",
       "      <td>550.0</td>\n",
       "      <td>3.7</td>\n",
       "      <td>17.0</td>\n",
       "      <td>https://www.redbus.in/bus-tickets/tezpur-to-gu...</td>\n",
       "      <td>Tezpur to Guwahati</td>\n",
       "    </tr>\n",
       "    <tr>\n",
       "      <th>1</th>\n",
       "      <td>BLUE HILL TRAVELS INDIA LIMITED</td>\n",
       "      <td>NON A/C Seater Semi Sleeper (2+1)</td>\n",
       "      <td>21:30</td>\n",
       "      <td>03:30</td>\n",
       "      <td>06h 00m</td>\n",
       "      <td>400.0</td>\n",
       "      <td>2.9</td>\n",
       "      <td>6.0</td>\n",
       "      <td>https://www.redbus.in/bus-tickets/tezpur-to-gu...</td>\n",
       "      <td>Tezpur to Guwahati</td>\n",
       "    </tr>\n",
       "    <tr>\n",
       "      <th>2</th>\n",
       "      <td>Himalayan Travels</td>\n",
       "      <td>NON A/C Seater (2+2)</td>\n",
       "      <td>23:40</td>\n",
       "      <td>04:00</td>\n",
       "      <td>04h 20m</td>\n",
       "      <td>450.0</td>\n",
       "      <td>1.8</td>\n",
       "      <td>35.0</td>\n",
       "      <td>https://www.redbus.in/bus-tickets/tezpur-to-gu...</td>\n",
       "      <td>Tezpur to Guwahati</td>\n",
       "    </tr>\n",
       "    <tr>\n",
       "      <th>3</th>\n",
       "      <td>Yatra Travels</td>\n",
       "      <td>NON A/C Seater (2+1)</td>\n",
       "      <td>18:00</td>\n",
       "      <td>23:30</td>\n",
       "      <td>05h 30m</td>\n",
       "      <td>400.0</td>\n",
       "      <td>3.3</td>\n",
       "      <td>NaN</td>\n",
       "      <td>https://www.redbus.in/bus-tickets/guwahati-to-...</td>\n",
       "      <td>Guwahati to Tezpur</td>\n",
       "    </tr>\n",
       "    <tr>\n",
       "      <th>4</th>\n",
       "      <td>Yatra Travels</td>\n",
       "      <td>NON AC Seater/ Sleeper (2+1)</td>\n",
       "      <td>20:00</td>\n",
       "      <td>00:00</td>\n",
       "      <td>04h 00m</td>\n",
       "      <td>400.0</td>\n",
       "      <td>4.2</td>\n",
       "      <td>6.0</td>\n",
       "      <td>https://www.redbus.in/bus-tickets/guwahati-to-...</td>\n",
       "      <td>Guwahati to Tezpur</td>\n",
       "    </tr>\n",
       "    <tr>\n",
       "      <th>...</th>\n",
       "      <td>...</td>\n",
       "      <td>...</td>\n",
       "      <td>...</td>\n",
       "      <td>...</td>\n",
       "      <td>...</td>\n",
       "      <td>...</td>\n",
       "      <td>...</td>\n",
       "      <td>...</td>\n",
       "      <td>...</td>\n",
       "      <td>...</td>\n",
       "    </tr>\n",
       "    <tr>\n",
       "      <th>5285</th>\n",
       "      <td>Greenline (Karunamoyee)</td>\n",
       "      <td>Volvo A/C Seater (2+2)</td>\n",
       "      <td>17:20</td>\n",
       "      <td>21:45</td>\n",
       "      <td>04h 25m</td>\n",
       "      <td>524.0</td>\n",
       "      <td>4.4</td>\n",
       "      <td>NaN</td>\n",
       "      <td>https://www.redbus.in/bus-tickets/kolkata-to-a...</td>\n",
       "      <td>Kolkata to Asansol (West Bengal)</td>\n",
       "    </tr>\n",
       "    <tr>\n",
       "      <th>5286</th>\n",
       "      <td>SHYAMOLI Pvt. Ltd.(Karunamoyee)</td>\n",
       "      <td>Volvo A/C Seater (2+2)</td>\n",
       "      <td>17:30</td>\n",
       "      <td>22:30</td>\n",
       "      <td>05h 00m</td>\n",
       "      <td>524.0</td>\n",
       "      <td>4.3</td>\n",
       "      <td>NaN</td>\n",
       "      <td>https://www.redbus.in/bus-tickets/kolkata-to-a...</td>\n",
       "      <td>Kolkata to Asansol (West Bengal)</td>\n",
       "    </tr>\n",
       "    <tr>\n",
       "      <th>5287</th>\n",
       "      <td>Greenline</td>\n",
       "      <td>Volvo A/C Seater (2+2)</td>\n",
       "      <td>18:05</td>\n",
       "      <td>23:05</td>\n",
       "      <td>05h 00m</td>\n",
       "      <td>524.0</td>\n",
       "      <td>4.1</td>\n",
       "      <td>NaN</td>\n",
       "      <td>https://www.redbus.in/bus-tickets/kolkata-to-a...</td>\n",
       "      <td>Kolkata to Asansol (West Bengal)</td>\n",
       "    </tr>\n",
       "    <tr>\n",
       "      <th>5288</th>\n",
       "      <td>Shyamoli Paribahan Pvt Ltd</td>\n",
       "      <td>Volvo A/C Seater (2+2)</td>\n",
       "      <td>18:40</td>\n",
       "      <td>23:25</td>\n",
       "      <td>04h 45m</td>\n",
       "      <td>524.0</td>\n",
       "      <td>4.4</td>\n",
       "      <td>NaN</td>\n",
       "      <td>https://www.redbus.in/bus-tickets/kolkata-to-a...</td>\n",
       "      <td>Kolkata to Asansol (West Bengal)</td>\n",
       "    </tr>\n",
       "    <tr>\n",
       "      <th>5289</th>\n",
       "      <td>Beauty Travels</td>\n",
       "      <td>NON A/C Seater / Sleeper (2+2)</td>\n",
       "      <td>20:20</td>\n",
       "      <td>00:30</td>\n",
       "      <td>04h 10m</td>\n",
       "      <td>380.0</td>\n",
       "      <td>3.0</td>\n",
       "      <td>36.0</td>\n",
       "      <td>https://www.redbus.in/bus-tickets/kolkata-to-a...</td>\n",
       "      <td>Kolkata to Asansol (West Bengal)</td>\n",
       "    </tr>\n",
       "  </tbody>\n",
       "</table>\n",
       "<p>5290 rows × 10 columns</p>\n",
       "</div>"
      ],
      "text/plain": [
       "                             Bus_name                           Bus Type  \\\n",
       "0     BLUE HILL TRAVELS INDIA LIMITED  NON A/C Seater Semi Sleeper (2+1)   \n",
       "1     BLUE HILL TRAVELS INDIA LIMITED  NON A/C Seater Semi Sleeper (2+1)   \n",
       "2                   Himalayan Travels               NON A/C Seater (2+2)   \n",
       "3                       Yatra Travels               NON A/C Seater (2+1)   \n",
       "4                       Yatra Travels       NON AC Seater/ Sleeper (2+1)   \n",
       "...                               ...                                ...   \n",
       "5285          Greenline (Karunamoyee)             Volvo A/C Seater (2+2)   \n",
       "5286  SHYAMOLI Pvt. Ltd.(Karunamoyee)             Volvo A/C Seater (2+2)   \n",
       "5287                        Greenline             Volvo A/C Seater (2+2)   \n",
       "5288       Shyamoli Paribahan Pvt Ltd             Volvo A/C Seater (2+2)   \n",
       "5289                   Beauty Travels     NON A/C Seater / Sleeper (2+2)   \n",
       "\n",
       "     Departure Time Arrival Time Duration   Fare  Rating  Seat_Availability  \\\n",
       "0             22:15        03:45  05h 30m  550.0     3.7               17.0   \n",
       "1             21:30        03:30  06h 00m  400.0     2.9                6.0   \n",
       "2             23:40        04:00  04h 20m  450.0     1.8               35.0   \n",
       "3             18:00        23:30  05h 30m  400.0     3.3                NaN   \n",
       "4             20:00        00:00  04h 00m  400.0     4.2                6.0   \n",
       "...             ...          ...      ...    ...     ...                ...   \n",
       "5285          17:20        21:45  04h 25m  524.0     4.4                NaN   \n",
       "5286          17:30        22:30  05h 00m  524.0     4.3                NaN   \n",
       "5287          18:05        23:05  05h 00m  524.0     4.1                NaN   \n",
       "5288          18:40        23:25  04h 45m  524.0     4.4                NaN   \n",
       "5289          20:20        00:30  04h 10m  380.0     3.0               36.0   \n",
       "\n",
       "                                               Bus Link  \\\n",
       "0     https://www.redbus.in/bus-tickets/tezpur-to-gu...   \n",
       "1     https://www.redbus.in/bus-tickets/tezpur-to-gu...   \n",
       "2     https://www.redbus.in/bus-tickets/tezpur-to-gu...   \n",
       "3     https://www.redbus.in/bus-tickets/guwahati-to-...   \n",
       "4     https://www.redbus.in/bus-tickets/guwahati-to-...   \n",
       "...                                                 ...   \n",
       "5285  https://www.redbus.in/bus-tickets/kolkata-to-a...   \n",
       "5286  https://www.redbus.in/bus-tickets/kolkata-to-a...   \n",
       "5287  https://www.redbus.in/bus-tickets/kolkata-to-a...   \n",
       "5288  https://www.redbus.in/bus-tickets/kolkata-to-a...   \n",
       "5289  https://www.redbus.in/bus-tickets/kolkata-to-a...   \n",
       "\n",
       "                             Bus Route  \n",
       "0                   Tezpur to Guwahati  \n",
       "1                   Tezpur to Guwahati  \n",
       "2                   Tezpur to Guwahati  \n",
       "3                   Guwahati to Tezpur  \n",
       "4                   Guwahati to Tezpur  \n",
       "...                                ...  \n",
       "5285  Kolkata to Asansol (West Bengal)  \n",
       "5286  Kolkata to Asansol (West Bengal)  \n",
       "5287  Kolkata to Asansol (West Bengal)  \n",
       "5288  Kolkata to Asansol (West Bengal)  \n",
       "5289  Kolkata to Asansol (West Bengal)  \n",
       "\n",
       "[5290 rows x 10 columns]"
      ]
     },
     "execution_count": 4,
     "metadata": {},
     "output_type": "execute_result"
    }
   ],
   "source": [
    "path = 'C:/Users/User/Desktop/MDT 28/Assignments/red_bus/csv'\n",
    "all_data = pd.DataFrame()\n",
    "for file in os.listdir(path):\n",
    "    df = pd.read_csv(os.path.join(path, file))\n",
    "    all_data = pd.concat([all_data, df], ignore_index=True)\n",
    "\n",
    "all_data"
   ]
  },
  {
   "cell_type": "code",
   "execution_count": 5,
   "metadata": {},
   "outputs": [
    {
     "data": {
      "text/plain": [
       "Bus_name              16\n",
       "Bus Type              22\n",
       "Departure Time        16\n",
       "Arrival Time          16\n",
       "Duration              16\n",
       "Fare                  19\n",
       "Rating               135\n",
       "Seat_Availability    715\n",
       "Bus Link               0\n",
       "Bus Route              0\n",
       "dtype: int64"
      ]
     },
     "execution_count": 5,
     "metadata": {},
     "output_type": "execute_result"
    }
   ],
   "source": [
    "all_data.isnull().sum()"
   ]
  },
  {
   "cell_type": "markdown",
   "metadata": {},
   "source": [
    "remove null values from all columns except Seat Availability"
   ]
  },
  {
   "cell_type": "code",
   "execution_count": 6,
   "metadata": {},
   "outputs": [],
   "source": [
    "columns_to_check = all_data.columns.difference(['Seat_Availability'])\n",
    "all_data.dropna(subset=columns_to_check, inplace=True, ignore_index=True)\n"
   ]
  },
  {
   "cell_type": "code",
   "execution_count": 7,
   "metadata": {},
   "outputs": [],
   "source": [
    "all_data['Seat_Availability'] = all_data['Seat_Availability'].fillna(0)"
   ]
  },
  {
   "cell_type": "code",
   "execution_count": 8,
   "metadata": {},
   "outputs": [
    {
     "data": {
      "text/plain": [
       "Bus_name             0\n",
       "Bus Type             0\n",
       "Departure Time       0\n",
       "Arrival Time         0\n",
       "Duration             0\n",
       "Fare                 0\n",
       "Rating               0\n",
       "Seat_Availability    0\n",
       "Bus Link             0\n",
       "Bus Route            0\n",
       "dtype: int64"
      ]
     },
     "execution_count": 8,
     "metadata": {},
     "output_type": "execute_result"
    }
   ],
   "source": [
    "all_data.isnull().sum()"
   ]
  },
  {
   "cell_type": "code",
   "execution_count": 9,
   "metadata": {},
   "outputs": [
    {
     "name": "stdout",
     "output_type": "stream",
     "text": [
      "<class 'pandas.core.frame.DataFrame'>\n",
      "RangeIndex: 5149 entries, 0 to 5148\n",
      "Data columns (total 10 columns):\n",
      " #   Column             Non-Null Count  Dtype  \n",
      "---  ------             --------------  -----  \n",
      " 0   Bus_name           5149 non-null   object \n",
      " 1   Bus Type           5149 non-null   object \n",
      " 2   Departure Time     5149 non-null   object \n",
      " 3   Arrival Time       5149 non-null   object \n",
      " 4   Duration           5149 non-null   object \n",
      " 5   Fare               5149 non-null   float64\n",
      " 6   Rating             5149 non-null   float64\n",
      " 7   Seat_Availability  5149 non-null   float64\n",
      " 8   Bus Link           5149 non-null   object \n",
      " 9   Bus Route          5149 non-null   object \n",
      "dtypes: float64(3), object(7)\n",
      "memory usage: 402.4+ KB\n"
     ]
    }
   ],
   "source": [
    "all_data.info()"
   ]
  },
  {
   "cell_type": "code",
   "execution_count": 10,
   "metadata": {},
   "outputs": [],
   "source": [
    "all_data['Departure Time'] = pd.to_datetime(all_data['Departure Time'],format='%H:%M').dt.time\n",
    "all_data['Arrival Time'] = pd.to_datetime(all_data['Arrival Time'],format='%H:%M').dt.time"
   ]
  },
  {
   "cell_type": "code",
   "execution_count": 11,
   "metadata": {},
   "outputs": [
    {
     "data": {
      "text/plain": [
       "dtype('O')"
      ]
     },
     "execution_count": 11,
     "metadata": {},
     "output_type": "execute_result"
    }
   ],
   "source": [
    "all_data['Departure Time'].dtype"
   ]
  },
  {
   "cell_type": "code",
   "execution_count": 12,
   "metadata": {},
   "outputs": [
    {
     "name": "stdout",
     "output_type": "stream",
     "text": [
      "<class 'pandas.core.frame.DataFrame'>\n",
      "RangeIndex: 5149 entries, 0 to 5148\n",
      "Data columns (total 10 columns):\n",
      " #   Column             Non-Null Count  Dtype  \n",
      "---  ------             --------------  -----  \n",
      " 0   Bus_name           5149 non-null   object \n",
      " 1   Bus Type           5149 non-null   object \n",
      " 2   Departure Time     5149 non-null   object \n",
      " 3   Arrival Time       5149 non-null   object \n",
      " 4   Duration           5149 non-null   object \n",
      " 5   Fare               5149 non-null   float64\n",
      " 6   Rating             5149 non-null   float64\n",
      " 7   Seat_Availability  5149 non-null   float64\n",
      " 8   Bus Link           5149 non-null   object \n",
      " 9   Bus Route          5149 non-null   object \n",
      "dtypes: float64(3), object(7)\n",
      "memory usage: 402.4+ KB\n"
     ]
    }
   ],
   "source": [
    "all_data.info()"
   ]
  },
  {
   "cell_type": "code",
   "execution_count": 13,
   "metadata": {},
   "outputs": [],
   "source": [
    "all_data[['from', 'destination']] = all_data['Bus Route'].str.split(' to ', expand=True)"
   ]
  },
  {
   "cell_type": "code",
   "execution_count": 14,
   "metadata": {},
   "outputs": [
    {
     "data": {
      "text/html": [
       "<div>\n",
       "<style scoped>\n",
       "    .dataframe tbody tr th:only-of-type {\n",
       "        vertical-align: middle;\n",
       "    }\n",
       "\n",
       "    .dataframe tbody tr th {\n",
       "        vertical-align: top;\n",
       "    }\n",
       "\n",
       "    .dataframe thead th {\n",
       "        text-align: right;\n",
       "    }\n",
       "</style>\n",
       "<table border=\"1\" class=\"dataframe\">\n",
       "  <thead>\n",
       "    <tr style=\"text-align: right;\">\n",
       "      <th></th>\n",
       "      <th>Bus_name</th>\n",
       "      <th>Bus Type</th>\n",
       "      <th>Departure Time</th>\n",
       "      <th>Arrival Time</th>\n",
       "      <th>Duration</th>\n",
       "      <th>Fare</th>\n",
       "      <th>Rating</th>\n",
       "      <th>Seat_Availability</th>\n",
       "      <th>Bus Link</th>\n",
       "      <th>Bus Route</th>\n",
       "      <th>from</th>\n",
       "      <th>destination</th>\n",
       "    </tr>\n",
       "  </thead>\n",
       "  <tbody>\n",
       "    <tr>\n",
       "      <th>0</th>\n",
       "      <td>BLUE HILL TRAVELS INDIA LIMITED</td>\n",
       "      <td>NON A/C Seater Semi Sleeper (2+1)</td>\n",
       "      <td>22:15:00</td>\n",
       "      <td>03:45:00</td>\n",
       "      <td>05h 30m</td>\n",
       "      <td>550.0</td>\n",
       "      <td>3.7</td>\n",
       "      <td>17.0</td>\n",
       "      <td>https://www.redbus.in/bus-tickets/tezpur-to-gu...</td>\n",
       "      <td>Tezpur to Guwahati</td>\n",
       "      <td>Tezpur</td>\n",
       "      <td>Guwahati</td>\n",
       "    </tr>\n",
       "    <tr>\n",
       "      <th>1</th>\n",
       "      <td>BLUE HILL TRAVELS INDIA LIMITED</td>\n",
       "      <td>NON A/C Seater Semi Sleeper (2+1)</td>\n",
       "      <td>21:30:00</td>\n",
       "      <td>03:30:00</td>\n",
       "      <td>06h 00m</td>\n",
       "      <td>400.0</td>\n",
       "      <td>2.9</td>\n",
       "      <td>6.0</td>\n",
       "      <td>https://www.redbus.in/bus-tickets/tezpur-to-gu...</td>\n",
       "      <td>Tezpur to Guwahati</td>\n",
       "      <td>Tezpur</td>\n",
       "      <td>Guwahati</td>\n",
       "    </tr>\n",
       "    <tr>\n",
       "      <th>2</th>\n",
       "      <td>Himalayan Travels</td>\n",
       "      <td>NON A/C Seater (2+2)</td>\n",
       "      <td>23:40:00</td>\n",
       "      <td>04:00:00</td>\n",
       "      <td>04h 20m</td>\n",
       "      <td>450.0</td>\n",
       "      <td>1.8</td>\n",
       "      <td>35.0</td>\n",
       "      <td>https://www.redbus.in/bus-tickets/tezpur-to-gu...</td>\n",
       "      <td>Tezpur to Guwahati</td>\n",
       "      <td>Tezpur</td>\n",
       "      <td>Guwahati</td>\n",
       "    </tr>\n",
       "    <tr>\n",
       "      <th>3</th>\n",
       "      <td>Yatra Travels</td>\n",
       "      <td>NON A/C Seater (2+1)</td>\n",
       "      <td>18:00:00</td>\n",
       "      <td>23:30:00</td>\n",
       "      <td>05h 30m</td>\n",
       "      <td>400.0</td>\n",
       "      <td>3.3</td>\n",
       "      <td>0.0</td>\n",
       "      <td>https://www.redbus.in/bus-tickets/guwahati-to-...</td>\n",
       "      <td>Guwahati to Tezpur</td>\n",
       "      <td>Guwahati</td>\n",
       "      <td>Tezpur</td>\n",
       "    </tr>\n",
       "    <tr>\n",
       "      <th>4</th>\n",
       "      <td>Yatra Travels</td>\n",
       "      <td>NON AC Seater/ Sleeper (2+1)</td>\n",
       "      <td>20:00:00</td>\n",
       "      <td>00:00:00</td>\n",
       "      <td>04h 00m</td>\n",
       "      <td>400.0</td>\n",
       "      <td>4.2</td>\n",
       "      <td>6.0</td>\n",
       "      <td>https://www.redbus.in/bus-tickets/guwahati-to-...</td>\n",
       "      <td>Guwahati to Tezpur</td>\n",
       "      <td>Guwahati</td>\n",
       "      <td>Tezpur</td>\n",
       "    </tr>\n",
       "  </tbody>\n",
       "</table>\n",
       "</div>"
      ],
      "text/plain": [
       "                          Bus_name                           Bus Type  \\\n",
       "0  BLUE HILL TRAVELS INDIA LIMITED  NON A/C Seater Semi Sleeper (2+1)   \n",
       "1  BLUE HILL TRAVELS INDIA LIMITED  NON A/C Seater Semi Sleeper (2+1)   \n",
       "2                Himalayan Travels               NON A/C Seater (2+2)   \n",
       "3                    Yatra Travels               NON A/C Seater (2+1)   \n",
       "4                    Yatra Travels       NON AC Seater/ Sleeper (2+1)   \n",
       "\n",
       "  Departure Time Arrival Time Duration   Fare  Rating  Seat_Availability  \\\n",
       "0       22:15:00     03:45:00  05h 30m  550.0     3.7               17.0   \n",
       "1       21:30:00     03:30:00  06h 00m  400.0     2.9                6.0   \n",
       "2       23:40:00     04:00:00  04h 20m  450.0     1.8               35.0   \n",
       "3       18:00:00     23:30:00  05h 30m  400.0     3.3                0.0   \n",
       "4       20:00:00     00:00:00  04h 00m  400.0     4.2                6.0   \n",
       "\n",
       "                                            Bus Link           Bus Route  \\\n",
       "0  https://www.redbus.in/bus-tickets/tezpur-to-gu...  Tezpur to Guwahati   \n",
       "1  https://www.redbus.in/bus-tickets/tezpur-to-gu...  Tezpur to Guwahati   \n",
       "2  https://www.redbus.in/bus-tickets/tezpur-to-gu...  Tezpur to Guwahati   \n",
       "3  https://www.redbus.in/bus-tickets/guwahati-to-...  Guwahati to Tezpur   \n",
       "4  https://www.redbus.in/bus-tickets/guwahati-to-...  Guwahati to Tezpur   \n",
       "\n",
       "       from destination  \n",
       "0    Tezpur    Guwahati  \n",
       "1    Tezpur    Guwahati  \n",
       "2    Tezpur    Guwahati  \n",
       "3  Guwahati      Tezpur  \n",
       "4  Guwahati      Tezpur  "
      ]
     },
     "execution_count": 14,
     "metadata": {},
     "output_type": "execute_result"
    }
   ],
   "source": [
    "all_data.head()"
   ]
  },
  {
   "cell_type": "code",
   "execution_count": 15,
   "metadata": {},
   "outputs": [
    {
     "data": {
      "text/plain": [
       "array(['Tezpur', 'Guwahati', 'Jorhat', 'Haflong', 'North Lakhimpur',\n",
       "       'Dibrugarh', 'Biswanath Charali', 'Tinsukia', 'Moran', 'Gohpur',\n",
       "       'Silchar', 'Bokakhat', 'Patna (Bihar)', 'Gopalganj (Bihar)',\n",
       "       'Delhi', 'Bettiah', 'Motihari', 'Balmiki Nagar (bihar)', 'Ranchi',\n",
       "       'Hazaribagh', 'Muzaffarpur (Bihar)', 'Lucknow', 'Agra', 'Purnea',\n",
       "       'Darbhanga', 'Shimla', 'Manali', 'Chandigarh',\n",
       "       'Hamirpur (Himachal Pradesh)', 'Dharamshala (Himachal Pradesh)',\n",
       "       'Chamba (Himachal Pradesh)', 'Dalhousie', 'Solan', 'Palampur',\n",
       "       'Kangra', 'Kullu', 'Baddi (Himachal Pradesh)', 'Ghumarwin', 'Pune',\n",
       "       'Goa', 'Mumbai', 'Pandharpur', 'Bangalore', 'Belagavi', 'Solapur',\n",
       "       'Sangola (Solapur)', 'Calangute (goa)', 'Mopa Airport',\n",
       "       'Shivamogga', 'Shirdi', 'Kozhikode', 'Ernakulam', 'Mysore',\n",
       "       'Kalpetta (kerala)', 'Thiruvananthapuram', 'Kannur', 'Kottayam',\n",
       "       'Thrissur', 'Coimbatore', 'Patiala', 'Ludhiana', 'Phagwara',\n",
       "       'Jalandhar', 'Delhi Airport', 'Amritsar', 'Vijayawada',\n",
       "       'Hyderabad', 'Kakinada', 'Visakhapatnam',\n",
       "       'Chittoor (Andhra Pradesh)', 'Kadapa',\n",
       "       'Anantapur (andhra pradesh)', 'Tirupati', 'Ongole',\n",
       "       'Macherla (andhra pradesh)', 'Rajahmundry', 'Nandyal',\n",
       "       'Guntur (Andhra Pradesh)', 'Kurnool', 'Rayachoti', 'Vinukonda',\n",
       "       'Amalapuram', 'Madanapalli', 'Narasaraopet', 'Eluru', 'Kadiri',\n",
       "       'Chennai', 'Nellore', 'Jodhpur', 'Beawar (Rajasthan)', 'Udaipur',\n",
       "       'Jaipur (Rajasthan)', 'Sikar', 'Kishangarh',\n",
       "       'Aligarh (uttar pradesh)', 'Kota(Rajasthan)', 'Pali (Rajasthan)',\n",
       "       'Bikaner', 'Durgapur (West Bengal)', 'Digha', 'Kolkata',\n",
       "       'Asansol (West Bengal)', 'Siliguri'], dtype=object)"
      ]
     },
     "execution_count": 15,
     "metadata": {},
     "output_type": "execute_result"
    }
   ],
   "source": [
    "all_data['from'].unique()"
   ]
  },
  {
   "cell_type": "code",
   "execution_count": 16,
   "metadata": {},
   "outputs": [
    {
     "data": {
      "text/plain": [
       "array(['Guwahati', 'Tezpur', 'Nagaon (Assam)', 'North Lakhimpur',\n",
       "       'Dibrugarh', 'Biswanath Charali', 'Haflong', 'Moran', 'Jorhat',\n",
       "       'Silchar', 'Tinsukia', 'Bokakhat', 'Bettiah', 'Delhi', 'Motihari',\n",
       "       'Patna (Bihar)', 'Katihar', 'Purnea', 'Hazaribagh', 'Raxaul',\n",
       "       'Ranchi', 'Muzaffarpur (Bihar)', 'Lucknow', 'Janakpur (Nepal)',\n",
       "       'Araria (Bihar)', 'Saharsa', 'Agra', 'Forbesganj',\n",
       "       'Hajipur (Bihar)', 'Gopalganj (Bihar)', 'Shimla', 'Chandigarh',\n",
       "       'Manali', 'Hamirpur (Himachal Pradesh)',\n",
       "       'Dharamshala (Himachal Pradesh)', 'Baddi (Himachal Pradesh)',\n",
       "       'Dalhousie', 'Chamba (Himachal Pradesh)', 'Palampur', 'Solan',\n",
       "       'Reckong Peo (Himachal Pradesh)', 'Kullu', 'Kangra', 'Nalagarh',\n",
       "       'Sarkaghat', 'Goa', 'Pune', 'Mumbai', 'Pandharpur', 'Bangalore',\n",
       "       'Kolhapur(Maharashtra)', 'Solapur', 'Sangola (Solapur)',\n",
       "       'Goa Airport', 'Sangli', 'Calangute (goa)', 'Miraj', 'Satara',\n",
       "       'Shivamogga', 'Shirdi', 'Margao', 'Kozhikode', 'Ernakulam',\n",
       "       'Mysore', 'Thiruvananthapuram', 'Kalpetta (kerala)', 'Thrissur',\n",
       "       'Kannur', 'Kottayam', 'Ooty', 'Patiala', 'Ludhiana', 'Jalandhar',\n",
       "       'Delhi Airport', 'Phagwara', 'Amritsar', 'Bathinda', 'Hyderabad',\n",
       "       'Vijayawada', 'Visakhapatnam', 'Kakinada', 'Tirupati', 'Kadapa',\n",
       "       'Ongole', 'Kurnool', 'Chittoor (Andhra Pradesh)', 'Rajahmundry',\n",
       "       'Anantapur (andhra pradesh)', 'Amalapuram', 'Madanapalli',\n",
       "       'Narasaraopet', 'Guntur (Andhra Pradesh)', 'Kadiri', 'Rayachoti',\n",
       "       'Chennai', 'Ajmer', 'Jaipur (Rajasthan)', 'Jodhpur',\n",
       "       'Beawar (Rajasthan)', 'Aligarh (uttar pradesh)', 'Kota(Rajasthan)',\n",
       "       'Udaipur', 'Pali (Rajasthan)', 'Bikaner', 'Bharatpur', 'Bhilwara',\n",
       "       'Pilani', 'Mathura', 'Sikar', 'Kolkata', 'Barasat (West Bengal)',\n",
       "       'Digha', 'Suri', 'Durgapur (West Bengal)', 'Siliguri',\n",
       "       'Asansol (West Bengal)'], dtype=object)"
      ]
     },
     "execution_count": 16,
     "metadata": {},
     "output_type": "execute_result"
    }
   ],
   "source": [
    "all_data['destination'].unique()"
   ]
  },
  {
   "cell_type": "code",
   "execution_count": 17,
   "metadata": {},
   "outputs": [],
   "source": [
    "all_data.to_csv('test.csv')"
   ]
  },
  {
   "cell_type": "code",
   "execution_count": 18,
   "metadata": {},
   "outputs": [
    {
     "data": {
      "text/plain": [
       "<mysql.connector.connection_cext.CMySQLConnection at 0x1bceb1eba70>"
      ]
     },
     "execution_count": 18,
     "metadata": {},
     "output_type": "execute_result"
    }
   ],
   "source": [
    "db_connection = db.connect(\n",
    "    host = \"localhost\",\n",
    "    user = \"root\",\n",
    "    password = \"root\"\n",
    ")\n",
    "\n",
    "db_connection"
   ]
  },
  {
   "cell_type": "code",
   "execution_count": 19,
   "metadata": {},
   "outputs": [],
   "source": [
    "mycursor = db_connection.cursor(buffered=True)"
   ]
  },
  {
   "cell_type": "code",
   "execution_count": 20,
   "metadata": {},
   "outputs": [],
   "source": [
    "mycursor.execute(\"CREATE DATABASE IF NOT EXISTS redbus_data\")"
   ]
  },
  {
   "cell_type": "code",
   "execution_count": null,
   "metadata": {},
   "outputs": [
    {
     "ename": "NameError",
     "evalue": "name 'db' is not defined",
     "output_type": "error",
     "traceback": [
      "\u001b[1;31m---------------------------------------------------------------------------\u001b[0m",
      "\u001b[1;31mNameError\u001b[0m                                 Traceback (most recent call last)",
      "Cell \u001b[1;32mIn[1], line 1\u001b[0m\n\u001b[1;32m----> 1\u001b[0m mydb \u001b[38;5;241m=\u001b[39m \u001b[43mdb\u001b[49m\u001b[38;5;241m.\u001b[39mconnect(\n\u001b[0;32m      2\u001b[0m     host\u001b[38;5;241m=\u001b[39m\u001b[38;5;124m\"\u001b[39m\u001b[38;5;124mlocalhost\u001b[39m\u001b[38;5;124m\"\u001b[39m,\n\u001b[0;32m      3\u001b[0m     user\u001b[38;5;241m=\u001b[39m\u001b[38;5;124m\"\u001b[39m\u001b[38;5;124mroot\u001b[39m\u001b[38;5;124m\"\u001b[39m,\n\u001b[0;32m      4\u001b[0m     password\u001b[38;5;241m=\u001b[39m\u001b[38;5;124m\"\u001b[39m\u001b[38;5;124mroot\u001b[39m\u001b[38;5;124m\"\u001b[39m,\n\u001b[0;32m      5\u001b[0m     database\u001b[38;5;241m=\u001b[39m\u001b[38;5;124m\"\u001b[39m\u001b[38;5;124mredbus_data\u001b[39m\u001b[38;5;124m\"\u001b[39m\n\u001b[0;32m      6\u001b[0m )\n\u001b[0;32m      8\u001b[0m mycursor \u001b[38;5;241m=\u001b[39m mydb\u001b[38;5;241m.\u001b[39mcursor(buffered\u001b[38;5;241m=\u001b[39m\u001b[38;5;28;01mTrue\u001b[39;00m)\n",
      "\u001b[1;31mNameError\u001b[0m: name 'db' is not defined"
     ]
    }
   ],
   "source": [
    "mydb = db.connect(\n",
    "    host=\"localhost\",\n",
    "    user=\"root\",\n",
    "    password=\"root\",\n",
    "    database=\"redbus_data\"\n",
    ")\n",
    "\n",
    "mycursor = mydb.cursor(buffered=True)\n"
   ]
  },
  {
   "cell_type": "code",
   "execution_count": null,
   "metadata": {},
   "outputs": [],
   "source": [
    "# Create the table if it doesn't exist\n",
    "mycursor.execute('''\n",
    "    CREATE TABLE IF NOT EXISTS redbus_info_3 (\n",
    "        route_id INT AUTO_INCREMENT PRIMARY KEY,\n",
    "        route_name Text,\n",
    "        route_link Text,\n",
    "        bus_name VARCHAR(100),\n",
    "        bus_type Text,\n",
    "        departing_time Text,\n",
    "        duration VARCHAR(50),\n",
    "        reaching_time Text,\n",
    "        star_rating FLOAT,\n",
    "        price DECIMAL(10, 2),\n",
    "        seats_available FLOAT,\n",
    "        depature VARCHAR(50),\n",
    "        destination VARCHAR(50)\n",
    "    )\n",
    "''')\n",
    "\n",
    "mydb.commit()"
   ]
  },
  {
   "cell_type": "code",
   "execution_count": null,
   "metadata": {},
   "outputs": [],
   "source": [
    "for index, row in all_data.iterrows():\n",
    "    sql = '''\n",
    "        INSERT INTO redbus_info_3 (bus_name, bus_type,\n",
    "                                  departing_time, reaching_time, duration,  \n",
    "                                  price, star_rating, seats_available, route_name, route_link, depature, destination)\n",
    "        VALUES (%s, %s, %s, %s, %s, %s, %s, %s, %s, %s, %s, %s)\n",
    "    '''\n",
    "    try:\n",
    "        mycursor.execute(sql, tuple(row))\n",
    "    except db.Error as e:\n",
    "        print(f\"Error inserting row {index}: {e}\")\n",
    "\n",
    "mydb.commit()\n",
    "mydb.close()"
   ]
  },
  {
   "cell_type": "code",
   "execution_count": null,
   "metadata": {},
   "outputs": [],
   "source": []
  },
  {
   "cell_type": "code",
   "execution_count": null,
   "metadata": {},
   "outputs": [],
   "source": []
  },
  {
   "cell_type": "code",
   "execution_count": null,
   "metadata": {},
   "outputs": [],
   "source": []
  }
 ],
 "metadata": {
  "kernelspec": {
   "display_name": ".venv",
   "language": "python",
   "name": "python3"
  },
  "language_info": {
   "codemirror_mode": {
    "name": "ipython",
    "version": 3
   },
   "file_extension": ".py",
   "mimetype": "text/x-python",
   "name": "python",
   "nbconvert_exporter": "python",
   "pygments_lexer": "ipython3",
   "version": "3.12.1"
  }
 },
 "nbformat": 4,
 "nbformat_minor": 2
}
